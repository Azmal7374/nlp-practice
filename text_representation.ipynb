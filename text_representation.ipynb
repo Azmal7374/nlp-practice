{
 "cells": [
  {
   "cell_type": "markdown",
   "id": "1a1efc5e",
   "metadata": {},
   "source": [
    "# Text Representation\n",
    "\n",
    "**Text representation in Natural Language Processing (NLP) refers to the process of converting raw text data into a format that can be understood and processed by machine learning algorithms. Effective text representation is crucial for various NLP tasks such as text classification, sentiment analysis, machine translation, and more. There are several techniques for representing text, each with its own advantages and use cases. Here are some common methods:**\n",
    "\n",
    "1. Bag-of-Words (BoW):\n",
    "2. Term Frequency-Inverse Document Frequency (TF-IDF):\n",
    "3. Word Embeddings: Word2Vec\n",
    "4. N grams\n",
    "5. Custom Features"
   ]
  },
  {
   "cell_type": "markdown",
   "id": "dd430b46",
   "metadata": {},
   "source": [
    "# One Hot Encoding\n",
    "\n",
    "**One-Hot Encoding is a technique used to convert categorical variables into a binary vector format that machine learning algorithms can understand and process. It is especially useful when dealing with categorical data in numerical models, as many machine learning algorithms work with numerical inputs. One-Hot Encoding represents each category as a unique binary value (0 or 1) in a vector.**\n",
    "\n",
    "1. Corpus\n",
    "2. Vocabulary\n",
    "3. Document\n",
    "4. Word"
   ]
  },
  {
   "cell_type": "code",
   "execution_count": 1,
   "id": "22e8e7a5",
   "metadata": {},
   "outputs": [],
   "source": [
    "import pandas as pd\n",
    "from sklearn.preprocessing import OneHotEncoder"
   ]
  },
  {
   "cell_type": "code",
   "execution_count": 2,
   "id": "f80e49c6",
   "metadata": {},
   "outputs": [],
   "source": [
    "# Sample corpus (collection of color names)\n",
    "corpus = ['Red', 'Green', 'Blue', 'Green', 'Red']"
   ]
  },
  {
   "cell_type": "code",
   "execution_count": 3,
   "id": "3e09f44d",
   "metadata": {},
   "outputs": [],
   "source": [
    "# Create a DataFrame representing the corpus\n",
    "df = pd.DataFrame({'Color': corpus})"
   ]
  },
  {
   "cell_type": "code",
   "execution_count": 4,
   "id": "84ef3750",
   "metadata": {},
   "outputs": [
    {
     "name": "stdout",
     "output_type": "stream",
     "text": [
      "Original DataFrame:\n",
      "   Color\n",
      "0    Red\n",
      "1  Green\n",
      "2   Blue\n",
      "3  Green\n",
      "4    Red\n"
     ]
    }
   ],
   "source": [
    "# Display the original DataFrame\n",
    "print(\"Original DataFrame:\")\n",
    "print(df)\n"
   ]
  },
  {
   "cell_type": "code",
   "execution_count": 17,
   "id": "b69867b5",
   "metadata": {},
   "outputs": [
    {
     "name": "stdout",
     "output_type": "stream",
     "text": [
      "['Red' 'Green' 'Blue']\n"
     ]
    }
   ],
   "source": [
    "# Create a vocabulary from the unique color names\n",
    "vocabulary = df['Color'].unique()\n",
    "print(vocabulary)\n"
   ]
  },
  {
   "cell_type": "code",
   "execution_count": 16,
   "id": "3341fa37",
   "metadata": {},
   "outputs": [
    {
     "name": "stdout",
     "output_type": "stream",
     "text": [
      "OneHotEncoder()\n"
     ]
    }
   ],
   "source": [
    "# Initialize the OneHotEncoder\n",
    "encoder = OneHotEncoder()\n",
    "print(encoder)"
   ]
  },
  {
   "cell_type": "code",
   "execution_count": 14,
   "id": "cadbbecd",
   "metadata": {},
   "outputs": [
    {
     "name": "stdout",
     "output_type": "stream",
     "text": [
      "[[0. 0. 1.]\n",
      " [0. 1. 0.]\n",
      " [1. 0. 0.]\n",
      " [0. 1. 0.]\n",
      " [0. 0. 1.]]\n"
     ]
    }
   ],
   "source": [
    "# Fit and transform the 'Color' column\n",
    "onehot_encoded = encoder.fit_transform(df[['Color']]).toarray()\n",
    "print(onehot_encoded)\n"
   ]
  },
  {
   "cell_type": "code",
   "execution_count": 15,
   "id": "f8616813",
   "metadata": {},
   "outputs": [
    {
     "name": "stdout",
     "output_type": "stream",
     "text": [
      "   Red  Green  Blue\n",
      "0  0.0    0.0   1.0\n",
      "1  0.0    1.0   0.0\n",
      "2  1.0    0.0   0.0\n",
      "3  0.0    1.0   0.0\n",
      "4  0.0    0.0   1.0\n"
     ]
    }
   ],
   "source": [
    "# Convert the one-hot encoded array back to a DataFrame\n",
    "onehot_df = pd.DataFrame(onehot_encoded, columns=vocabulary)\n",
    "print(onehot_df)"
   ]
  },
  {
   "cell_type": "code",
   "execution_count": 13,
   "id": "cfe4aa7e",
   "metadata": {},
   "outputs": [
    {
     "name": "stdout",
     "output_type": "stream",
     "text": [
      "\n",
      "One-Hot Encoded DataFrame:\n",
      "   Red  Green  Blue\n",
      "0  0.0    0.0   1.0\n",
      "1  0.0    1.0   0.0\n",
      "2  1.0    0.0   0.0\n",
      "3  0.0    1.0   0.0\n",
      "4  0.0    0.0   1.0\n"
     ]
    }
   ],
   "source": [
    "print(\"\\nOne-Hot Encoded DataFrame:\")\n",
    "print(onehot_df)"
   ]
  },
  {
   "cell_type": "markdown",
   "id": "f463895d",
   "metadata": {},
   "source": [
    "# Bag Of Words\n",
    "\n",
    "**The Bag-of-Words (BoW) model is a fundamental and straightforward technique used in Natural Language Processing (NLP) to represent text data as numerical vectors. It's a simple way to convert text into a format that can be used for various machine learning tasks, such as text classification, sentiment analysis, and more.**"
   ]
  },
  {
   "cell_type": "code",
   "execution_count": 18,
   "id": "bc66c07f",
   "metadata": {},
   "outputs": [],
   "source": [
    "import pandas as pd\n",
    "from sklearn.feature_extraction.text import CountVectorizer"
   ]
  },
  {
   "cell_type": "code",
   "execution_count": 19,
   "id": "b019a44f",
   "metadata": {},
   "outputs": [],
   "source": [
    "# Sample corpus (collection of text documents)\n",
    "corpus = [\n",
    "    \"This is the first document.\",\n",
    "    \"This document is the second document.\",\n",
    "    \"And this is the third one.\",\n",
    "    \"Is this the first document?\"\n",
    "]\n"
   ]
  },
  {
   "cell_type": "code",
   "execution_count": 20,
   "id": "e8c825f1",
   "metadata": {},
   "outputs": [],
   "source": [
    "# Create a DataFrame representing the corpus\n",
    "df = pd.DataFrame({'Document': corpus})\n"
   ]
  },
  {
   "cell_type": "code",
   "execution_count": 21,
   "id": "4c903078",
   "metadata": {},
   "outputs": [
    {
     "name": "stdout",
     "output_type": "stream",
     "text": [
      "Original DataFrame:\n",
      "                                Document\n",
      "0            This is the first document.\n",
      "1  This document is the second document.\n",
      "2             And this is the third one.\n",
      "3            Is this the first document?\n"
     ]
    }
   ],
   "source": [
    "# Display the original DataFrame\n",
    "print(\"Original DataFrame:\")\n",
    "print(df)\n"
   ]
  },
  {
   "cell_type": "code",
   "execution_count": 22,
   "id": "ee9f93d0",
   "metadata": {},
   "outputs": [],
   "source": [
    "# Initialize the CountVectorizer\n",
    "vectorizer = CountVectorizer()"
   ]
  },
  {
   "cell_type": "code",
   "execution_count": 23,
   "id": "e35e2144",
   "metadata": {
    "scrolled": true
   },
   "outputs": [
    {
     "name": "stdout",
     "output_type": "stream",
     "text": [
      "  (0, 8)\t1\n",
      "  (0, 3)\t1\n",
      "  (0, 6)\t1\n",
      "  (0, 2)\t1\n",
      "  (0, 1)\t1\n",
      "  (1, 8)\t1\n",
      "  (1, 3)\t1\n",
      "  (1, 6)\t1\n",
      "  (1, 1)\t2\n",
      "  (1, 5)\t1\n",
      "  (2, 8)\t1\n",
      "  (2, 3)\t1\n",
      "  (2, 6)\t1\n",
      "  (2, 0)\t1\n",
      "  (2, 7)\t1\n",
      "  (2, 4)\t1\n",
      "  (3, 8)\t1\n",
      "  (3, 3)\t1\n",
      "  (3, 6)\t1\n",
      "  (3, 2)\t1\n",
      "  (3, 1)\t1\n"
     ]
    }
   ],
   "source": [
    "# Fit and transform the text documents\n",
    "X = vectorizer.fit_transform(df['Document'])\n",
    "print(X)\n",
    "\n",
    "#We look at the sorted vocabulary: [\"And\", \"document\", \"first\", \"is\", \"one\", \"second\", \"the\", \"third\", \"This\"]."
   ]
  },
  {
   "cell_type": "markdown",
   "id": "f8249e53",
   "metadata": {},
   "source": [
    "**In this corpus, the unique words are: \"This\", \"is\", \"the\", \"first\", \"document\", \"And\", \"second\", \"third\", \"one\". They are sorted alphabetically to form the vocabulary.**\n",
    "\n",
    "**n this output, (0, 8) 1 means that in the first document (document at index 0), the word represented by column index 8 appears 1 time.**\n",
    "\n",
    "To determine which word corresponds to index 8:\n",
    "\n",
    "**We look at the sorted vocabulary: [\"And\", \"document\", \"first\", \"is\", \"one\", \"second\", \"the\", \"third\", \"This\"].**\n",
    "**We find that the word corresponding to index 8 is \"This\".\n",
    "Similarly, let's look at (0, 3) 1:**\n",
    "\n",
    "**We look at the sorted vocabulary: [\"And\", \"document\", \"first\", \"is\", \"one\", \"second\", \"the\", \"third\", \"This\"].**\n",
    "**We find that the word corresponding to index 3 is \"is\".\n",
    "So, the indices in the output correspond to the positions of words in the sorted vocabulary. The correct interpretation is that the word \"This\" is at index 8, and the word \"is\" is at index 3 based on the sorted vocabulary. My previous explanations were inaccurate, and I apologize for any confusion caused.**\n"
   ]
  },
  {
   "cell_type": "code",
   "execution_count": 24,
   "id": "ea6fbf16",
   "metadata": {},
   "outputs": [],
   "source": [
    "# Step 3: Convert the sparse matrix to a dense DataFrame\n",
    "# Convert the sparse matrix X into a DataFrame with word counts\n",
    "bow_df = pd.DataFrame(X.toarray(), columns=vectorizer.get_feature_names_out())\n"
   ]
  },
  {
   "cell_type": "code",
   "execution_count": 25,
   "id": "6f518632",
   "metadata": {},
   "outputs": [
    {
     "name": "stdout",
     "output_type": "stream",
     "text": [
      "\n",
      "Bag-of-Words DataFrame:\n",
      "   and  document  first  is  one  second  the  third  this\n",
      "0    0         1      1   1    0       0    1      0     1\n",
      "1    0         2      0   1    0       1    1      0     1\n",
      "2    1         0      0   1    1       0    1      1     1\n",
      "3    0         1      1   1    0       0    1      0     1\n"
     ]
    }
   ],
   "source": [
    "# Display the Bag-of-Words DataFrame\n",
    "print(\"\\nBag-of-Words DataFrame:\")\n",
    "print(bow_df)"
   ]
  },
  {
   "cell_type": "markdown",
   "id": "351f6c9e",
   "metadata": {},
   "source": [
    "# N-grams\n",
    "\n",
    "**N-grams are a technique used in Natural Language Processing (NLP) to represent text as a sequence of contiguous word or character groups. An N-gram is a subsequence of N consecutive items (usually words or characters) from a given sequence of text. N-grams capture local patterns and relationships between words or characters, and they are commonly used for various NLP tasks, including language modeling, machine translation, and text analysis.**\n"
   ]
  },
  {
   "cell_type": "markdown",
   "id": "716a3981",
   "metadata": {},
   "source": [
    "### N-grams can be of different sizes, with \"N\" representing the number of elements in the subsequence. Here are some common types of N-grams:\n",
    "\n",
    "\n",
    "\n",
    "1. Unigrams (1-grams):\n",
    "Unigrams are individual words in a text. Each word is treated as a separate element, and no contextual information is captured.\n",
    "\n",
    "**Example: \"The cat is on the mat.\"\n",
    " Unigrams: [\"The\", \"cat\", \"is\", \"on\", \"the\", \"mat.\"]**\n",
    "\n",
    "2. Bigrams (2-grams):\n",
    "Bigrams consist of pairs of consecutive words. They capture some contextual information by considering pairs of words together.\n",
    "\n",
    "**Example: \"The cat is on the mat.\"\n",
    "Bigrams: [\"The cat\", \"cat is\", \"is on\", \"on the\", \"the mat.\"]**\n",
    "\n",
    "3. Trigrams (3-grams):\n",
    "Trigrams consist of groups of three consecutive words. They capture more context than bigrams.\n",
    "\n",
    "**Example: \"The cat is on the mat.\"\n",
    "Trigrams: [\"The cat is\", \"cat is on\", \"is on the\", \"on the mat.\"]**\n",
    "\n",
    "4. N-grams (N > 3):\n",
    "N-grams of higher order capture even more context and relationships between words.\n",
    "\n",
    "**Example: \"The cat is on the mat.\"\n",
    "4-grams: [\"The cat is on\", \"cat is on the\", \"is on the mat.\"]\n",
    "5-grams: [\"The cat is on the\", \"cat is on the mat.\"]**\n",
    "\n"
   ]
  },
  {
   "cell_type": "code",
   "execution_count": 26,
   "id": "3e85ef49",
   "metadata": {},
   "outputs": [],
   "source": [
    "import nltk\n",
    "from nltk import word_tokenize\n",
    "from nltk.util import ngrams"
   ]
  },
  {
   "cell_type": "code",
   "execution_count": 27,
   "id": "7a8626d9",
   "metadata": {},
   "outputs": [],
   "source": [
    "# Sample text\n",
    "text = \"The cat is on the mat.\""
   ]
  },
  {
   "cell_type": "code",
   "execution_count": 28,
   "id": "bf1562c8",
   "metadata": {},
   "outputs": [
    {
     "name": "stdout",
     "output_type": "stream",
     "text": [
      "['The', 'cat', 'is', 'on', 'the', 'mat', '.']\n"
     ]
    }
   ],
   "source": [
    "# Tokenize the text into words\n",
    "words = word_tokenize(text)\n",
    "print(words)"
   ]
  },
  {
   "cell_type": "code",
   "execution_count": 29,
   "id": "8d7d70ea",
   "metadata": {},
   "outputs": [],
   "source": [
    "# Generate unigrams, bigrams, and trigrams\n",
    "unigrams = list(ngrams(words, 1))\n",
    "bigrams = list(ngrams(words, 2))\n",
    "trigrams = list(ngrams(words, 3))"
   ]
  },
  {
   "cell_type": "code",
   "execution_count": 30,
   "id": "f7eafabb",
   "metadata": {},
   "outputs": [
    {
     "name": "stdout",
     "output_type": "stream",
     "text": [
      "Unigrams: [('The',), ('cat',), ('is',), ('on',), ('the',), ('mat',), ('.',)]\n",
      "Bigrams: [('The', 'cat'), ('cat', 'is'), ('is', 'on'), ('on', 'the'), ('the', 'mat'), ('mat', '.')]\n",
      "Trigrams: [('The', 'cat', 'is'), ('cat', 'is', 'on'), ('is', 'on', 'the'), ('on', 'the', 'mat'), ('the', 'mat', '.')]\n"
     ]
    }
   ],
   "source": [
    "# Print the generated N-grams\n",
    "print(\"Unigrams:\", unigrams)\n",
    "print(\"Bigrams:\", bigrams)\n",
    "print(\"Trigrams:\", trigrams)"
   ]
  },
  {
   "cell_type": "code",
   "execution_count": 32,
   "id": "b19b0d7d",
   "metadata": {},
   "outputs": [
    {
     "name": "stdout",
     "output_type": "stream",
     "text": [
      "Requirement already satisfied: networkx in c:\\users\\hp\\anaconda3\\lib\\site-packages (2.8.4)\n"
     ]
    }
   ],
   "source": [
    "!pip install networkx"
   ]
  },
  {
   "cell_type": "code",
   "execution_count": 33,
   "id": "b7996776",
   "metadata": {},
   "outputs": [],
   "source": [
    " import nltk\n",
    "import networkx as nx\n",
    "import matplotlib.pyplot as plt\n",
    "from nltk import word_tokenize\n",
    "from nltk.util import ngrams"
   ]
  },
  {
   "cell_type": "code",
   "execution_count": 34,
   "id": "a33a2ee1",
   "metadata": {},
   "outputs": [],
   "source": [
    "# Sample text\n",
    "text = \"Natural language processing is a subfield of artificial intelligence that focuses on the interaction between computers and humans using natural language.\"\n",
    "\n",
    "# Tokenize the text into words\n",
    "words = word_tokenize(text)\n"
   ]
  },
  {
   "cell_type": "code",
   "execution_count": 35,
   "id": "b44cea0e",
   "metadata": {},
   "outputs": [
    {
     "name": "stdout",
     "output_type": "stream",
     "text": [
      "[('Natural', 'language'), ('language', 'processing'), ('processing', 'is'), ('is', 'a'), ('a', 'subfield'), ('subfield', 'of'), ('of', 'artificial'), ('artificial', 'intelligence'), ('intelligence', 'that'), ('that', 'focuses'), ('focuses', 'on'), ('on', 'the'), ('the', 'interaction'), ('interaction', 'between'), ('between', 'computers'), ('computers', 'and'), ('and', 'humans'), ('humans', 'using'), ('using', 'natural'), ('natural', 'language'), ('language', '.')]\n"
     ]
    }
   ],
   "source": [
    "# Generate bigrams\n",
    "bigrams = list(ngrams(words, 2))\n",
    "print(bigrams)"
   ]
  },
  {
   "cell_type": "code",
   "execution_count": 36,
   "id": "803428a8",
   "metadata": {},
   "outputs": [
    {
     "name": "stdout",
     "output_type": "stream",
     "text": [
      "DiGraph with 0 nodes and 0 edges\n"
     ]
    }
   ],
   "source": [
    "# Create a directed graph\n",
    "G = nx.DiGraph()\n",
    "print(G)"
   ]
  },
  {
   "cell_type": "code",
   "execution_count": 47,
   "id": "08652ddc",
   "metadata": {},
   "outputs": [
    {
     "name": "stdout",
     "output_type": "stream",
     "text": [
      "('Natural', 'language')\n",
      "None\n",
      "('language', 'processing')\n",
      "None\n",
      "('processing', 'is')\n",
      "None\n",
      "('is', 'a')\n",
      "None\n",
      "('a', 'subfield')\n",
      "None\n",
      "('subfield', 'of')\n",
      "None\n",
      "('of', 'artificial')\n",
      "None\n",
      "('artificial', 'intelligence')\n",
      "None\n",
      "('intelligence', 'that')\n",
      "None\n",
      "('that', 'focuses')\n",
      "None\n",
      "('focuses', 'on')\n",
      "None\n",
      "('on', 'the')\n",
      "None\n",
      "('the', 'interaction')\n",
      "None\n",
      "('interaction', 'between')\n",
      "None\n",
      "('between', 'computers')\n",
      "None\n",
      "('computers', 'and')\n",
      "None\n",
      "('and', 'humans')\n",
      "None\n",
      "('humans', 'using')\n",
      "None\n",
      "('using', 'natural')\n",
      "None\n",
      "('natural', 'language')\n",
      "None\n",
      "('language', '.')\n",
      "None\n"
     ]
    }
   ],
   "source": [
    "# Add nodes and edges\n",
    "for bigram in bigrams:\n",
    "    word1, word2 = bigram\n",
    "    print(bigram)\n",
    "    G.add_node(word1)\n",
    "    G.add_node(word2)\n",
    "    G.add_edge(word1, word2)\n"
   ]
  },
  {
   "cell_type": "code",
   "execution_count": 40,
   "id": "73d63915",
   "metadata": {},
   "outputs": [
    {
     "data": {
      "image/png": "[encoded data removed]",
      "text/plain": [
       "<Figure size 1000x800 with 1 Axes>"
      ]
     },
     "metadata": {},
     "output_type": "display_data"
    }
   ],
   "source": [
    "# Draw the network graph using nx.draw_networkx\n",
    "pos = nx.spring_layout(G)\n",
    "plt.figure(figsize=(10, 8))\n",
    "nx.draw_networkx(G, pos, with_labels=True, node_size=2000, node_color=\"skyblue\", font_size=10, font_color=\"black\", font_weight=\"bold\", edge_color=\"gray\")\n",
    "\n",
    "# Show the graph\n",
    "plt.title(\"Bigram Network\")\n",
    "plt.show()\n"
   ]
  },
  {
   "cell_type": "markdown",
   "id": "6d140964",
   "metadata": {},
   "source": [
    "# TF-IDF (Term Frequency-Inverse Document Frequency)\n",
    "\n",
    "**TF-IDF (Term Frequency-Inverse Document Frequency) is a numerical representation technique commonly used in Natural Language Processing (NLP) to quantify the importance of words in a document relative to a collection of documents (corpus). It's a technique that helps transform text data into numerical vectors, which can be used for various NLP tasks like document similarity, clustering, classification, and more.**"
   ]
  },
  {
   "cell_type": "code",
   "execution_count": 48,
   "id": "8863469b",
   "metadata": {},
   "outputs": [],
   "source": [
    "import pandas as pd\n",
    "from sklearn.feature_extraction.text import TfidfVectorizer"
   ]
  },
  {
   "cell_type": "code",
   "execution_count": 49,
   "id": "58266b6f",
   "metadata": {},
   "outputs": [],
   "source": [
    "# Sample corpus (collection of text documents)\n",
    "corpus = [\n",
    "    \"This is the first document.\",\n",
    "    \"This document is the second document.\",\n",
    "    \"And this is the third one.\",\n",
    "    \"Is this the first document?\"\n",
    "]"
   ]
  },
  {
   "cell_type": "code",
   "execution_count": 50,
   "id": "21e310bb",
   "metadata": {},
   "outputs": [],
   "source": [
    "# Create a DataFrame representing the corpus\n",
    "df = pd.DataFrame({'Document': corpus})\n"
   ]
  },
  {
   "cell_type": "code",
   "execution_count": 51,
   "id": "17794bf1",
   "metadata": {},
   "outputs": [],
   "source": [
    "# Initialize the TF-IDF vectorizer\n",
    "vectorizer = TfidfVectorizer()\n"
   ]
  },
  {
   "cell_type": "code",
   "execution_count": 52,
   "id": "80c60841",
   "metadata": {},
   "outputs": [],
   "source": [
    "# Fit and transform the text documents\n",
    "X = vectorizer.fit_transform(df['Document'])"
   ]
  },
  {
   "cell_type": "code",
   "execution_count": 53,
   "id": "277fe938",
   "metadata": {},
   "outputs": [],
   "source": [
    "# Convert the sparse matrix to a dense DataFrame\n",
    "tfidf_df = pd.DataFrame(X.toarray(), columns=vectorizer.get_feature_names_out())"
   ]
  },
  {
   "cell_type": "code",
   "execution_count": 54,
   "id": "683df9b2",
   "metadata": {},
   "outputs": [
    {
     "name": "stdout",
     "output_type": "stream",
     "text": [
      "        and  document     first        is       one    second       the  \\\n",
      "0  0.000000  0.469791  0.580286  0.384085  0.000000  0.000000  0.384085   \n",
      "1  0.000000  0.687624  0.000000  0.281089  0.000000  0.538648  0.281089   \n",
      "2  0.511849  0.000000  0.000000  0.267104  0.511849  0.000000  0.267104   \n",
      "3  0.000000  0.469791  0.580286  0.384085  0.000000  0.000000  0.384085   \n",
      "\n",
      "      third      this  \n",
      "0  0.000000  0.384085  \n",
      "1  0.000000  0.281089  \n",
      "2  0.511849  0.267104  \n",
      "3  0.000000  0.384085  \n"
     ]
    }
   ],
   "source": [
    "# Display the TF-IDF DataFrame\n",
    "print(tfidf_df)"
   ]
  },
  {
   "cell_type": "markdown",
   "id": "1fdfb530",
   "metadata": {},
   "source": [
    "# TF-IDF Calculation"
   ]
  },
  {
   "cell_type": "markdown",
   "id": "08c5e29e",
   "metadata": {},
   "source": [
    "## Corpus:\n",
    "1. This **is** the first document.\n",
    "2. This document **is** the second document.\n",
    "3. And **this is** the third one.\n",
    "4. Is **this** the first document?"
   ]
  },
  {
   "cell_type": "markdown",
   "id": "0dd420c5",
   "metadata": {},
   "source": [
    "### Word to Calculate TF-IDF For: \"this\" (in document 1)\n",
    "#### Let's calculate the TF-IDF for the word \"this\" in document 1 using the formula:\n",
    "\n",
    "**TF-IDF(w, d) = TF(w, d) * IDF(w)**\n",
    "\n",
    "## Term Frequency (TF):\n",
    "**The term frequency of \"this\" in document 1 is 1, because \"this\" appears once in that document.**"
   ]
  },
  {
   "cell_type": "markdown",
   "id": "8d2dcdb8",
   "metadata": {},
   "source": [
    "## Inverse Document Frequency (IDF):\n",
    "**The inverse document frequency of \"this\" can be calculated as follows: **\n",
    "\n",
    "**```Number of documents containing \"this\": 3 (document 1, 2, and 3)\n",
    "Total number of documents: 4 (the entire corpus)\n",
    "IDF(\"this\") = log(Total number of documents / Number of documents containing \"this\")\n",
    "             = log(4 / 3) ≈ 0.2877```**"
   ]
  },
  {
   "cell_type": "markdown",
   "id": "3dd17034",
   "metadata": {},
   "source": [
    "# TF-IDF Calculation:\n",
    "\n",
    "**TF-IDF(\"this\", document 1) = TF(\"this\", document 1) * IDF(\"this\")\n",
    "                          = 1 * 0.2877 ≈ 0.2877**\n",
    "                          \n",
    "  **So, the TF-IDF score for the word \"this\" in document 1 is approximately 0.2877.**"
   ]
  },
  {
   "cell_type": "code",
   "execution_count": null,
   "id": "590c31e9",
   "metadata": {},
   "outputs": [],
   "source": []
  }
 ],
 "metadata": {
  "kernelspec": {
   "display_name": "Python 3 (ipykernel)",
   "language": "python",
   "name": "python3"
  },
  "language_info": {
   "codemirror_mode": {
    "name": "ipython",
    "version": 3
   },
   "file_extension": ".py",
   "mimetype": "text/x-python",
   "name": "python",
   "nbconvert_exporter": "python",
   "pygments_lexer": "ipython3",
   "version": "3.11.3"
  }
 },
 "nbformat": 4,
 "nbformat_minor": 5
}
