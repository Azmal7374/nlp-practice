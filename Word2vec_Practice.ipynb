{
 "cells": [
  {
   "cell_type": "markdown",
   "id": "7e273e82",
   "metadata": {},
   "source": [
    "# WORd2Vec\n",
    "\n",
    "**Word2Vec is a popular natural language processing (NLP) technique used to represent words as numerical vectors in a continuous vector space. It's a type of word embedding method that captures the semantic meaning of words based on their context within a large corpus of text. Word2Vec was introduced by researchers at Google in 2013 and has since become a fundamental tool in NLP applications.**\n",
    "\n",
    "**The primary idea behind Word2Vec is that words with similar meanings tend to appear in similar contexts. Word2Vec algorithms learn to map words to dense vectors in such a way that words that share similar contexts are closer together in the vector space. There are two main techniques used in Word2Vec: Continuous Bag of Words (CBOW) and Skip-gram.**\n",
    "\n",
    "1. Continuous Bag of Words (CBOW): CBOW aims to predict a target word based on its surrounding context words. The model takes a window of context words and tries to predict the target word. For example, given the sentence \"The cat is sitting on the mat,\" the CBOW model might be trained to predict the word \"sitting\" based on the context words \"The,\" \"cat,\" \"is,\" \"on,\" and \"the.\"\n",
    "\n",
    "2. Skip-gram: Skip-gram is the reverse of CBOW. It aims to predict the context words based on a target word. It takes a target word and tries to predict the words that might appear around it. Using the same example sentence, the Skip-gram model might be trained to predict \"The,\" \"cat,\" \"is,\" \"on,\" and \"the\" based on the word \"sitting.\"\n",
    "\n",
    "**Both CBOW and Skip-gram models are trained on large text corpora using a neural network architecture. The resulting word vectors, often referred to as \"word embeddings,\" capture semantic relationships between words. Words that are semantically similar are represented as vectors that are closer together in the vector space. These word embeddings can then be used in various NLP tasks, such as sentiment analysis, machine translation, text classification, and more.**\n",
    "\n",
    "**Word2Vec embeddings have proven to be highly effective in capturing word meanings and semantic relationships, making them an essential component of many modern NLP applications and research.**"
   ]
  },
  {
   "cell_type": "code",
   "execution_count": 1,
   "id": "42a57f1c",
   "metadata": {},
   "outputs": [],
   "source": [
    "import numpy as np\n",
    "import pandas as pd"
   ]
  },
  {
   "cell_type": "code",
   "execution_count": 2,
   "id": "b30fc212",
   "metadata": {
    "scrolled": true
   },
   "outputs": [
    {
     "name": "stdout",
     "output_type": "stream",
     "text": [
      "Requirement already satisfied: gensim in c:\\users\\hp\\anaconda3\\lib\\site-packages (4.3.0)\n",
      "Requirement already satisfied: numpy>=1.18.5 in c:\\users\\hp\\anaconda3\\lib\\site-packages (from gensim) (1.24.3)\n",
      "Requirement already satisfied: scipy>=1.7.0 in c:\\users\\hp\\anaconda3\\lib\\site-packages (from gensim) (1.10.1)\n",
      "Requirement already satisfied: smart-open>=1.8.1 in c:\\users\\hp\\anaconda3\\lib\\site-packages (from gensim) (5.2.1)\n",
      "Requirement already satisfied: FuzzyTM>=0.4.0 in c:\\users\\hp\\anaconda3\\lib\\site-packages (from gensim) (2.0.5)\n",
      "Requirement already satisfied: pandas in c:\\users\\hp\\anaconda3\\lib\\site-packages (from FuzzyTM>=0.4.0->gensim) (1.5.3)\n",
      "Requirement already satisfied: pyfume in c:\\users\\hp\\anaconda3\\lib\\site-packages (from FuzzyTM>=0.4.0->gensim) (0.2.25)\n",
      "Requirement already satisfied: python-dateutil>=2.8.1 in c:\\users\\hp\\anaconda3\\lib\\site-packages (from pandas->FuzzyTM>=0.4.0->gensim) (2.8.2)\n",
      "Requirement already satisfied: pytz>=2020.1 in c:\\users\\hp\\anaconda3\\lib\\site-packages (from pandas->FuzzyTM>=0.4.0->gensim) (2022.7)\n",
      "Requirement already satisfied: simpful in c:\\users\\hp\\anaconda3\\lib\\site-packages (from pyfume->FuzzyTM>=0.4.0->gensim) (2.11.0)\n",
      "Requirement already satisfied: fst-pso in c:\\users\\hp\\anaconda3\\lib\\site-packages (from pyfume->FuzzyTM>=0.4.0->gensim) (1.8.1)\n",
      "Requirement already satisfied: six>=1.5 in c:\\users\\hp\\anaconda3\\lib\\site-packages (from python-dateutil>=2.8.1->pandas->FuzzyTM>=0.4.0->gensim) (1.16.0)\n",
      "Requirement already satisfied: miniful in c:\\users\\hp\\anaconda3\\lib\\site-packages (from fst-pso->pyfume->FuzzyTM>=0.4.0->gensim) (0.0.6)\n"
     ]
    }
   ],
   "source": [
    "!pip install gensim"
   ]
  },
  {
   "cell_type": "code",
   "execution_count": 4,
   "id": "fdc1f92c",
   "metadata": {},
   "outputs": [],
   "source": [
    "import gensim\n",
    "from gensim.models import Word2Vec"
   ]
  },
  {
   "cell_type": "markdown",
   "id": "c230e1c1",
   "metadata": {},
   "source": [
    "# import gensim\n",
    "**Certainly! The gensim library is a powerful and widely used Python library for natural language processing (NLP) tasks, particularly for working with text data and building machine learning models for tasks like word embeddings, topic modeling, and more. It provides efficient and scalable implementations of various algorithms commonly used in NLP.**\n",
    "\n",
    "# from gensim.models import Word2Vec\n",
    "**The line of code `from gensim.models import Word2Vec` imports the `Word2Vec` class from the Gensim library. Gensim is a popular Python library used for natural language processing tasks, including word embeddings and topic modeling. The `Word2Vec` class in Gensim is specifically designed to create and work with Word2Vec word embeddings, which are dense vector representations of words capturing semantic relationships based on their context in a given corpus. This approach allows words with similar meanings or usage patterns to have similar vector representations, enabling various NLP applications such as text similarity, document classification, and more. The `Word2Vec` class provides methods for training Word2Vec models on text corpora, accessing word vectors, and performing operations like finding similar words or words that don't fit together.**\n"
   ]
  },
  {
   "cell_type": "markdown",
   "id": "b8696eb2",
   "metadata": {},
   "source": [
    "# Wordd2Vec Example"
   ]
  },
  {
   "cell_type": "code",
   "execution_count": 5,
   "id": "45f58f41",
   "metadata": {},
   "outputs": [],
   "source": [
    "sentences = [\n",
    "    [\"I\", \"love\", \"machine\", \"learning\"],\n",
    "    [\"Word2Vec\", \"is\", \"powerful\"],\n",
    "    [\"AI\", \"is\", \"the\", \"future\"],\n",
    "    [\"Python\", \"is\", \"popular\", \"for\", \"data\", \"science\"],\n",
    "    [\"I\", \"enjoy\", \"working\", \"with\", \"data\"],\n",
    "]\n"
   ]
  },
  {
   "cell_type": "code",
   "execution_count": 6,
   "id": "f193f47c",
   "metadata": {},
   "outputs": [],
   "source": [
    "model = Word2Vec(sentences, vector_size=100, window=5, min_count=1, sg=0)  # sg=0 for CBOW, sg=1 for skip-gram\n"
   ]
  },
  {
   "cell_type": "code",
   "execution_count": 7,
   "id": "503559f7",
   "metadata": {},
   "outputs": [
    {
     "name": "stdout",
     "output_type": "stream",
     "text": [
      "Vector for 'machine': [-8.7274825e-03  2.1301615e-03 -8.7354420e-04 -9.3190884e-03\n",
      " -9.4281426e-03 -1.4107180e-03  4.4324086e-03  3.7040710e-03\n",
      " -6.4986930e-03 -6.8730675e-03 -4.9994122e-03 -2.2868442e-03\n",
      " -7.2502876e-03 -9.6033178e-03 -2.7436293e-03 -8.3628409e-03\n",
      " -6.0388758e-03 -5.6709289e-03 -2.3441375e-03 -1.7069972e-03\n",
      " -8.9569986e-03 -7.3519943e-04  8.1525063e-03  7.6904297e-03\n",
      " -7.2061159e-03 -3.6668312e-03  3.1185520e-03 -9.5707225e-03\n",
      "  1.4764392e-03  6.5244664e-03  5.7464195e-03 -8.7630618e-03\n",
      " -4.5171441e-03 -8.1401607e-03  4.5956374e-05  9.2636338e-03\n",
      "  5.9733056e-03  5.0673080e-03  5.0610625e-03 -3.2429171e-03\n",
      "  9.5521836e-03 -7.3564244e-03 -7.2703874e-03 -2.2653891e-03\n",
      " -7.7856064e-04 -3.2161034e-03 -5.9258583e-04  7.4888230e-03\n",
      " -6.9751858e-04 -1.6249407e-03  2.7443992e-03 -8.3591007e-03\n",
      "  7.8558037e-03  8.5361041e-03 -9.5840869e-03  2.4462664e-03\n",
      "  9.9049713e-03 -7.6658037e-03 -6.9669187e-03 -7.7365171e-03\n",
      "  8.3959233e-03 -6.8133592e-04  9.1444086e-03 -8.1582209e-03\n",
      "  3.7430846e-03  2.6350426e-03  7.4271322e-04  2.3276759e-03\n",
      " -7.4690939e-03 -9.3583735e-03  2.3545765e-03  6.1484552e-03\n",
      "  7.9856887e-03  5.7358947e-03 -7.7733636e-04  8.3061643e-03\n",
      " -9.3363142e-03  3.4061326e-03  2.6675343e-04  3.8572443e-03\n",
      "  7.3857834e-03 -6.7251669e-03  5.5844807e-03 -9.5222248e-03\n",
      " -8.0445886e-04 -8.6887367e-03 -5.0986730e-03  9.2892265e-03\n",
      " -1.8582619e-03  2.9144264e-03  9.0712793e-03  8.9381328e-03\n",
      " -8.2084350e-03 -3.0123137e-03  9.8866057e-03  5.1044310e-03\n",
      " -1.5880871e-03 -8.6920215e-03  2.9615164e-03 -6.6758976e-03]\n",
      "Similar words to 'learning': [('enjoy', 0.16378889977931976), ('data', 0.14595060050487518), ('working', 0.05048847571015358)]\n"
     ]
    }
   ],
   "source": [
    "# Get the vector representation of a word\n",
    "vector = model.wv['machine']\n",
    "print(\"Vector for 'machine':\", vector)\n",
    "\n",
    "# Find similar words\n",
    "similar_words = model.wv.most_similar('learning', topn=3)\n",
    "print(\"Similar words to 'learning':\", similar_words)\n"
   ]
  },
  {
   "cell_type": "code",
   "execution_count": 8,
   "id": "b77f3c04",
   "metadata": {},
   "outputs": [],
   "source": [
    "# Save the model\n",
    "#model.save(\"word2vec.model\")\n",
    "\n",
    "# Load the model\n",
    "#loaded_model = Word2Vec.load(\"word2vec.model\")\n"
   ]
  },
  {
   "cell_type": "code",
   "execution_count": 9,
   "id": "376fdf04",
   "metadata": {},
   "outputs": [],
   "source": [
    "import re\n",
    "from collections import Counter\n",
    "import matplotlib.pyplot as plt\n",
    "\n"
   ]
  },
  {
   "cell_type": "code",
   "execution_count": 18,
   "id": "0158972a",
   "metadata": {},
   "outputs": [],
   "source": [
    "with open('word2vec.txt', 'r', encoding='utf-8') as file:\n",
    "    text = file.read()\n",
    "\n",
    "# Preprocess text\n",
    "text = text.lower()\n",
    "text = re.sub(r'[^a-zA-Z\\s]', '', text)\n",
    "words = text.split()\n",
    " "
   ]
  },
  {
   "cell_type": "code",
   "execution_count": 19,
   "id": "3fdb0bce",
   "metadata": {},
   "outputs": [],
   "source": [
    "word_counts = Counter(words)\n",
    " \n"
   ]
  },
  {
   "cell_type": "code",
   "execution_count": 13,
   "id": "a1a5b297",
   "metadata": {},
   "outputs": [
    {
     "name": "stdout",
     "output_type": "stream",
     "text": [
      "Top 10 words: [('the', 17693), ('and', 8835), ('to', 6547), ('a', 6402), ('of', 5844), ('he', 5145), ('his', 5074), ('was', 3886), ('her', 3643), ('you', 3251)]\n"
     ]
    }
   ],
   "source": [
    "top_n = 10\n",
    "top_words = word_counts.most_common(top_n)\n",
    "print(\"Top\", top_n, \"words:\", top_words)\n"
   ]
  },
  {
   "cell_type": "code",
   "execution_count": 15,
   "id": "4565a575",
   "metadata": {
    "scrolled": true
   },
   "outputs": [
    {
     "data": {
      "image/png": "[encoded data removed]",
      "text/plain": [
       "<Figure size 1000x600 with 1 Axes>"
      ]
     },
     "metadata": {},
     "output_type": "display_data"
    }
   ],
   "source": [
    "words, counts = zip(*top_words)\n",
    "plt.figure(figsize=(10, 6))\n",
    "plt.bar(words, counts)\n",
    "plt.title(\"Top Words in Large Text Data\")\n",
    "plt.xlabel(\"Words\")\n",
    "plt.ylabel(\"Frequency\")\n",
    "plt.xticks(rotation=45)\n",
    "plt.tight_layout()\n",
    "plt.show()\n"
   ]
  },
  {
   "cell_type": "markdown",
   "id": "7b8295b0",
   "metadata": {},
   "source": [
    "# CBOW \n",
    "\n",
    "**Certainly! CBOW, short for Continuous Bag of Words, is a word embedding model used in natural language processing (NLP). It's one of the two primary architectures for training word2vec models, the other being Skip-Gram. CBOW focuses on predicting a target word based on the context words surrounding it.**"
   ]
  },
  {
   "cell_type": "code",
   "execution_count": 20,
   "id": "9d76e2b0",
   "metadata": {},
   "outputs": [
    {
     "name": "stdout",
     "output_type": "stream",
     "text": [
      "Vector for 'computer': [-0.00515774 -0.00667028 -0.0077791   0.00831315 -0.00198292 -0.00685696\n",
      " -0.0041556   0.00514562 -0.00286997 -0.00375075  0.0016219  -0.0027771\n",
      " -0.00158482  0.0010748  -0.00297881  0.00852176  0.00391207 -0.00996176\n",
      "  0.00626142 -0.00675622  0.00076966  0.00440552 -0.00510486 -0.00211128\n",
      "  0.00809783 -0.00424503 -0.00763848  0.00926061 -0.00215612 -0.00472081\n",
      "  0.00857329  0.00428459  0.0043261   0.00928722 -0.00845554  0.00525685\n",
      "  0.00203994  0.0041895   0.00169839  0.00446543  0.0044876   0.0061063\n",
      " -0.00320303 -0.00457706 -0.00042664  0.00253447 -0.00326412  0.00605948\n",
      "  0.00415534  0.00776685  0.00257002  0.00811905 -0.00138761  0.00808028\n",
      "  0.0037181  -0.00804967 -0.00393476 -0.0024726   0.00489447 -0.00087241\n",
      " -0.00283173  0.00783599  0.00932561 -0.0016154  -0.00516075 -0.00470313\n",
      " -0.00484746 -0.00960562  0.00137242 -0.00422615  0.00252744  0.00561612\n",
      " -0.00406709 -0.00959937  0.00154715 -0.00670207  0.0024959  -0.00378173\n",
      "  0.00708048  0.00064041  0.00356198 -0.00273993 -0.00171105  0.00765502\n",
      "  0.00140809 -0.00585215 -0.00783678  0.00123305  0.00645651  0.00555797\n",
      " -0.00897966  0.00859466  0.00404816  0.00747178  0.00974917 -0.0072917\n",
      " -0.00904259  0.0058377   0.00939395  0.00350795]\n"
     ]
    },
    {
     "ename": "KeyError",
     "evalue": "\"Key 'learning' not present in vocabulary\"",
     "output_type": "error",
     "traceback": [
      "\u001b[1;31m---------------------------------------------------------------------------\u001b[0m",
      "\u001b[1;31mKeyError\u001b[0m                                  Traceback (most recent call last)",
      "Cell \u001b[1;32mIn[20], line 12\u001b[0m\n\u001b[0;32m      9\u001b[0m \u001b[38;5;28mprint\u001b[39m(\u001b[38;5;124m\"\u001b[39m\u001b[38;5;124mVector for \u001b[39m\u001b[38;5;124m'\u001b[39m\u001b[38;5;124mcomputer\u001b[39m\u001b[38;5;124m'\u001b[39m\u001b[38;5;124m:\u001b[39m\u001b[38;5;124m\"\u001b[39m, vector)\n\u001b[0;32m     11\u001b[0m \u001b[38;5;66;03m# Find similar words\u001b[39;00m\n\u001b[1;32m---> 12\u001b[0m similar_words \u001b[38;5;241m=\u001b[39m model\u001b[38;5;241m.\u001b[39mwv\u001b[38;5;241m.\u001b[39mmost_similar(\u001b[38;5;124m'\u001b[39m\u001b[38;5;124mlearning\u001b[39m\u001b[38;5;124m'\u001b[39m, topn\u001b[38;5;241m=\u001b[39m\u001b[38;5;241m3\u001b[39m)\n\u001b[0;32m     13\u001b[0m \u001b[38;5;28mprint\u001b[39m(\u001b[38;5;124m\"\u001b[39m\u001b[38;5;124mSimilar words to \u001b[39m\u001b[38;5;124m'\u001b[39m\u001b[38;5;124mlearning\u001b[39m\u001b[38;5;124m'\u001b[39m\u001b[38;5;124m:\u001b[39m\u001b[38;5;124m\"\u001b[39m, similar_words)\n",
      "File \u001b[1;32m~\\anaconda3\\Lib\\site-packages\\gensim\\models\\keyedvectors.py:841\u001b[0m, in \u001b[0;36mKeyedVectors.most_similar\u001b[1;34m(self, positive, negative, topn, clip_start, clip_end, restrict_vocab, indexer)\u001b[0m\n\u001b[0;32m    838\u001b[0m         weight[idx] \u001b[38;5;241m=\u001b[39m item[\u001b[38;5;241m1\u001b[39m]\n\u001b[0;32m    840\u001b[0m \u001b[38;5;66;03m# compute the weighted average of all keys\u001b[39;00m\n\u001b[1;32m--> 841\u001b[0m mean \u001b[38;5;241m=\u001b[39m \u001b[38;5;28mself\u001b[39m\u001b[38;5;241m.\u001b[39mget_mean_vector(keys, weight, pre_normalize\u001b[38;5;241m=\u001b[39m\u001b[38;5;28;01mTrue\u001b[39;00m, post_normalize\u001b[38;5;241m=\u001b[39m\u001b[38;5;28;01mTrue\u001b[39;00m, ignore_missing\u001b[38;5;241m=\u001b[39m\u001b[38;5;28;01mFalse\u001b[39;00m)\n\u001b[0;32m    842\u001b[0m all_keys \u001b[38;5;241m=\u001b[39m [\n\u001b[0;32m    843\u001b[0m     \u001b[38;5;28mself\u001b[39m\u001b[38;5;241m.\u001b[39mget_index(key) \u001b[38;5;28;01mfor\u001b[39;00m key \u001b[38;5;129;01min\u001b[39;00m keys \u001b[38;5;28;01mif\u001b[39;00m \u001b[38;5;28misinstance\u001b[39m(key, _KEY_TYPES) \u001b[38;5;129;01mand\u001b[39;00m \u001b[38;5;28mself\u001b[39m\u001b[38;5;241m.\u001b[39mhas_index_for(key)\n\u001b[0;32m    844\u001b[0m ]\n\u001b[0;32m    846\u001b[0m \u001b[38;5;28;01mif\u001b[39;00m indexer \u001b[38;5;129;01mis\u001b[39;00m \u001b[38;5;129;01mnot\u001b[39;00m \u001b[38;5;28;01mNone\u001b[39;00m \u001b[38;5;129;01mand\u001b[39;00m \u001b[38;5;28misinstance\u001b[39m(topn, \u001b[38;5;28mint\u001b[39m):\n",
      "File \u001b[1;32m~\\anaconda3\\Lib\\site-packages\\gensim\\models\\keyedvectors.py:518\u001b[0m, in \u001b[0;36mKeyedVectors.get_mean_vector\u001b[1;34m(self, keys, weights, pre_normalize, post_normalize, ignore_missing)\u001b[0m\n\u001b[0;32m    516\u001b[0m         total_weight \u001b[38;5;241m+\u001b[39m\u001b[38;5;241m=\u001b[39m \u001b[38;5;28mabs\u001b[39m(weights[idx])\n\u001b[0;32m    517\u001b[0m     \u001b[38;5;28;01melif\u001b[39;00m \u001b[38;5;129;01mnot\u001b[39;00m ignore_missing:\n\u001b[1;32m--> 518\u001b[0m         \u001b[38;5;28;01mraise\u001b[39;00m \u001b[38;5;167;01mKeyError\u001b[39;00m(\u001b[38;5;124mf\u001b[39m\u001b[38;5;124m\"\u001b[39m\u001b[38;5;124mKey \u001b[39m\u001b[38;5;124m'\u001b[39m\u001b[38;5;132;01m{\u001b[39;00mkey\u001b[38;5;132;01m}\u001b[39;00m\u001b[38;5;124m'\u001b[39m\u001b[38;5;124m not present in vocabulary\u001b[39m\u001b[38;5;124m\"\u001b[39m)\n\u001b[0;32m    520\u001b[0m \u001b[38;5;28;01mif\u001b[39;00m total_weight \u001b[38;5;241m>\u001b[39m \u001b[38;5;241m0\u001b[39m:\n\u001b[0;32m    521\u001b[0m     mean \u001b[38;5;241m=\u001b[39m mean \u001b[38;5;241m/\u001b[39m total_weight\n",
      "\u001b[1;31mKeyError\u001b[0m: \"Key 'learning' not present in vocabulary\""
     ]
    }
   ],
   "source": [
    "from gensim.models import Word2Vec\n",
    "from gensim.test.utils import common_texts\n",
    "\n",
    "# Create a CBOW Word2Vec model\n",
    "model = Word2Vec(sentences=common_texts, vector_size=100, window=5, min_count=1, sg=0)\n",
    "\n",
    "# Access the learned word vectors\n",
    "vector = model.wv['computer']\n",
    "print(\"Vector for 'computer':\", vector)\n",
    "\n",
    "# Find similar words\n",
    "similar_words = model.wv.most_similar('learning', topn=3)\n",
    "print(\"Similar words to 'learning':\", similar_words)\n"
   ]
  },
  {
   "cell_type": "markdown",
   "id": "7483375a",
   "metadata": {},
   "source": [
    "# Skip-grap\n",
    "\n",
    "**Certainly! The Skip-Gram model is a word embedding technique used in natural language processing (NLP) to learn dense vector representations (embeddings) of words. It's one of the architectures used in the Word2Vec framework. Unlike the Continuous Bag of Words (CBOW) model, which predicts a target word given a context of surrounding words, Skip-Gram predicts context words based on a target word.**"
   ]
  },
  {
   "cell_type": "code",
   "execution_count": 10,
   "id": "bbcacb61",
   "metadata": {},
   "outputs": [
    {
     "name": "stdout",
     "output_type": "stream",
     "text": [
      "Vector for 'computer': [-0.00515774 -0.00667028 -0.0077791   0.00831315 -0.00198292 -0.00685696\n",
      " -0.0041556   0.00514562 -0.00286997 -0.00375075  0.0016219  -0.0027771\n",
      " -0.00158482  0.0010748  -0.00297881  0.00852176  0.00391207 -0.00996176\n",
      "  0.00626142 -0.00675622  0.00076966  0.00440552 -0.00510486 -0.00211128\n",
      "  0.00809783 -0.00424503 -0.00763848  0.00926061 -0.00215612 -0.00472081\n",
      "  0.00857329  0.00428459  0.0043261   0.00928722 -0.00845554  0.00525685\n",
      "  0.00203994  0.0041895   0.00169839  0.00446543  0.0044876   0.0061063\n",
      " -0.00320303 -0.00457706 -0.00042664  0.00253447 -0.00326412  0.00605948\n",
      "  0.00415534  0.00776685  0.00257002  0.00811905 -0.00138761  0.00808028\n",
      "  0.0037181  -0.00804967 -0.00393476 -0.0024726   0.00489447 -0.00087241\n",
      " -0.00283173  0.00783599  0.00932561 -0.0016154  -0.00516075 -0.00470313\n",
      " -0.00484746 -0.00960562  0.00137242 -0.00422615  0.00252744  0.00561612\n",
      " -0.00406709 -0.00959937  0.00154715 -0.00670207  0.0024959  -0.00378173\n",
      "  0.00708048  0.00064041  0.00356198 -0.00273993 -0.00171105  0.00765502\n",
      "  0.00140809 -0.00585215 -0.00783678  0.00123305  0.00645651  0.00555797\n",
      " -0.00897966  0.00859466  0.00404816  0.00747178  0.00974917 -0.0072917\n",
      " -0.00904259  0.0058377   0.00939395  0.00350795]\n"
     ]
    },
    {
     "ename": "KeyError",
     "evalue": "\"Key 'learning' not present in vocabulary\"",
     "output_type": "error",
     "traceback": [
      "\u001b[1;31m---------------------------------------------------------------------------\u001b[0m",
      "\u001b[1;31mKeyError\u001b[0m                                  Traceback (most recent call last)",
      "Cell \u001b[1;32mIn[10], line 12\u001b[0m\n\u001b[0;32m      9\u001b[0m \u001b[38;5;28mprint\u001b[39m(\u001b[38;5;124m\"\u001b[39m\u001b[38;5;124mVector for \u001b[39m\u001b[38;5;124m'\u001b[39m\u001b[38;5;124mcomputer\u001b[39m\u001b[38;5;124m'\u001b[39m\u001b[38;5;124m:\u001b[39m\u001b[38;5;124m\"\u001b[39m, vector)\n\u001b[0;32m     11\u001b[0m \u001b[38;5;66;03m# Find similar words\u001b[39;00m\n\u001b[1;32m---> 12\u001b[0m similar_words \u001b[38;5;241m=\u001b[39m model\u001b[38;5;241m.\u001b[39mwv\u001b[38;5;241m.\u001b[39mmost_similar(\u001b[38;5;124m'\u001b[39m\u001b[38;5;124mlearning\u001b[39m\u001b[38;5;124m'\u001b[39m, topn\u001b[38;5;241m=\u001b[39m\u001b[38;5;241m3\u001b[39m)\n\u001b[0;32m     13\u001b[0m \u001b[38;5;28mprint\u001b[39m(\u001b[38;5;124m\"\u001b[39m\u001b[38;5;124mSimilar words to \u001b[39m\u001b[38;5;124m'\u001b[39m\u001b[38;5;124mlearning\u001b[39m\u001b[38;5;124m'\u001b[39m\u001b[38;5;124m:\u001b[39m\u001b[38;5;124m\"\u001b[39m, similar_words)\n",
      "File \u001b[1;32m~\\anaconda3\\Lib\\site-packages\\gensim\\models\\keyedvectors.py:841\u001b[0m, in \u001b[0;36mKeyedVectors.most_similar\u001b[1;34m(self, positive, negative, topn, clip_start, clip_end, restrict_vocab, indexer)\u001b[0m\n\u001b[0;32m    838\u001b[0m         weight[idx] \u001b[38;5;241m=\u001b[39m item[\u001b[38;5;241m1\u001b[39m]\n\u001b[0;32m    840\u001b[0m \u001b[38;5;66;03m# compute the weighted average of all keys\u001b[39;00m\n\u001b[1;32m--> 841\u001b[0m mean \u001b[38;5;241m=\u001b[39m \u001b[38;5;28mself\u001b[39m\u001b[38;5;241m.\u001b[39mget_mean_vector(keys, weight, pre_normalize\u001b[38;5;241m=\u001b[39m\u001b[38;5;28;01mTrue\u001b[39;00m, post_normalize\u001b[38;5;241m=\u001b[39m\u001b[38;5;28;01mTrue\u001b[39;00m, ignore_missing\u001b[38;5;241m=\u001b[39m\u001b[38;5;28;01mFalse\u001b[39;00m)\n\u001b[0;32m    842\u001b[0m all_keys \u001b[38;5;241m=\u001b[39m [\n\u001b[0;32m    843\u001b[0m     \u001b[38;5;28mself\u001b[39m\u001b[38;5;241m.\u001b[39mget_index(key) \u001b[38;5;28;01mfor\u001b[39;00m key \u001b[38;5;129;01min\u001b[39;00m keys \u001b[38;5;28;01mif\u001b[39;00m \u001b[38;5;28misinstance\u001b[39m(key, _KEY_TYPES) \u001b[38;5;129;01mand\u001b[39;00m \u001b[38;5;28mself\u001b[39m\u001b[38;5;241m.\u001b[39mhas_index_for(key)\n\u001b[0;32m    844\u001b[0m ]\n\u001b[0;32m    846\u001b[0m \u001b[38;5;28;01mif\u001b[39;00m indexer \u001b[38;5;129;01mis\u001b[39;00m \u001b[38;5;129;01mnot\u001b[39;00m \u001b[38;5;28;01mNone\u001b[39;00m \u001b[38;5;129;01mand\u001b[39;00m \u001b[38;5;28misinstance\u001b[39m(topn, \u001b[38;5;28mint\u001b[39m):\n",
      "File \u001b[1;32m~\\anaconda3\\Lib\\site-packages\\gensim\\models\\keyedvectors.py:518\u001b[0m, in \u001b[0;36mKeyedVectors.get_mean_vector\u001b[1;34m(self, keys, weights, pre_normalize, post_normalize, ignore_missing)\u001b[0m\n\u001b[0;32m    516\u001b[0m         total_weight \u001b[38;5;241m+\u001b[39m\u001b[38;5;241m=\u001b[39m \u001b[38;5;28mabs\u001b[39m(weights[idx])\n\u001b[0;32m    517\u001b[0m     \u001b[38;5;28;01melif\u001b[39;00m \u001b[38;5;129;01mnot\u001b[39;00m ignore_missing:\n\u001b[1;32m--> 518\u001b[0m         \u001b[38;5;28;01mraise\u001b[39;00m \u001b[38;5;167;01mKeyError\u001b[39;00m(\u001b[38;5;124mf\u001b[39m\u001b[38;5;124m\"\u001b[39m\u001b[38;5;124mKey \u001b[39m\u001b[38;5;124m'\u001b[39m\u001b[38;5;132;01m{\u001b[39;00mkey\u001b[38;5;132;01m}\u001b[39;00m\u001b[38;5;124m'\u001b[39m\u001b[38;5;124m not present in vocabulary\u001b[39m\u001b[38;5;124m\"\u001b[39m)\n\u001b[0;32m    520\u001b[0m \u001b[38;5;28;01mif\u001b[39;00m total_weight \u001b[38;5;241m>\u001b[39m \u001b[38;5;241m0\u001b[39m:\n\u001b[0;32m    521\u001b[0m     mean \u001b[38;5;241m=\u001b[39m mean \u001b[38;5;241m/\u001b[39m total_weight\n",
      "\u001b[1;31mKeyError\u001b[0m: \"Key 'learning' not present in vocabulary\""
     ]
    }
   ],
   "source": [
    "from gensim.models import Word2Vec\n",
    "from gensim.test.utils import common_texts\n",
    "\n",
    "# Create a Skip-Gram Word2Vec model\n",
    "model = Word2Vec(sentences=common_texts, vector_size=100, window=5, min_count=1, sg=1)\n",
    "\n",
    "# Access the learned word vectors\n",
    "vector = model.wv['computer'] \n",
    "print(\"Vector for 'computer':\", vector)\n",
    "\n",
    "# Find similar words\n",
    "similar_words = model.wv.most_similar('learning', topn=3)\n",
    "print(\"Similar words to 'learning':\", similar_words)\n"
   ]
  },
  {
   "cell_type": "markdown",
   "id": "df696fec",
   "metadata": {},
   "source": [
    "# Another Example "
   ]
  },
  {
   "cell_type": "code",
   "execution_count": 3,
   "id": "54abe3c1",
   "metadata": {},
   "outputs": [],
   "source": [
    "from gensim.models import Word2Vec\n",
    "from nltk.tokenize import word_tokenize\n"
   ]
  },
  {
   "cell_type": "code",
   "execution_count": 4,
   "id": "6e753ec5",
   "metadata": {},
   "outputs": [],
   "source": [
    "# Sample corpus\n",
    "corpus = [\n",
    "    \"ChatGPT is a powerful language model.\",\n",
    "    \"It generates human-like text.\",\n",
    "    \"Word2Vec is a technique for word embeddings.\"\n",
    "]\n"
   ]
  },
  {
   "cell_type": "code",
   "execution_count": 5,
   "id": "2ba05ff0",
   "metadata": {},
   "outputs": [],
   "source": [
    "# Tokenize the corpus\n",
    "tokenized_corpus = [word_tokenize(sentence.lower()) for sentence in corpus]\n",
    "\n",
    "# Train the Word2Vec model\n",
    "model = Word2Vec(tokenized_corpus, vector_size=100, window=5, min_count=1, sg=1)"
   ]
  },
  {
   "cell_type": "code",
   "execution_count": 6,
   "id": "8434d6fc",
   "metadata": {},
   "outputs": [],
   "source": [
    "# Find the vector representation of a word\n",
    "word_vector = model.wv['chatgpt']\n",
    "\n",
    "# Find similar words\n",
    "similar_words = model.wv.most_similar('powerful', topn=3)"
   ]
  },
  {
   "cell_type": "code",
   "execution_count": 7,
   "id": "a46a413e",
   "metadata": {},
   "outputs": [
    {
     "name": "stdout",
     "output_type": "stream",
     "text": [
      "Vector representation of 'chatgpt': [-7.1909428e-03  4.2328904e-03  2.1633946e-03  7.4407146e-03\n",
      " -4.8892652e-03 -4.5643463e-03 -6.0981740e-03  3.2993674e-03\n",
      " -4.4994629e-03  8.5228849e-03 -4.2888271e-03 -9.1054197e-03\n",
      " -4.8163556e-03  6.4164903e-03 -6.3713240e-03 -5.2615367e-03\n",
      " -7.3044109e-03  6.0222615e-03  3.3575939e-03  2.8483903e-03\n",
      " -3.1385506e-03  6.0308911e-03 -6.1527453e-03 -1.9801008e-03\n",
      " -5.9830821e-03 -9.9568011e-04 -2.0209861e-03  8.4859459e-03\n",
      "  7.8001023e-05 -8.5753258e-03 -5.4290984e-03 -6.8759858e-03\n",
      "  2.6923812e-03  9.4566476e-03 -5.8159959e-03  8.2650259e-03\n",
      "  8.5320519e-03 -7.0626391e-03 -8.8832127e-03  9.4691841e-03\n",
      "  8.3743641e-03 -4.6908916e-03 -6.7260410e-03  7.8421365e-03\n",
      "  3.7633455e-03  8.0955038e-03 -7.5715459e-03 -9.5250849e-03\n",
      "  1.5774060e-03 -9.8057678e-03 -4.8858845e-03 -3.4601032e-03\n",
      "  9.6209226e-03  8.6235693e-03 -2.8356076e-03  5.8268728e-03\n",
      "  8.2370946e-03 -2.2629809e-03  9.5285419e-03  7.1602152e-03\n",
      "  2.0415008e-03 -3.8487636e-03 -5.0817500e-03 -3.0516528e-03\n",
      "  7.8878645e-03 -6.1904346e-03 -2.9150224e-03  9.1910223e-03\n",
      "  3.4566557e-03  6.0726120e-03 -8.0328165e-03 -7.5150491e-04\n",
      "  5.5224476e-03 -4.7144685e-03  7.4784933e-03  9.3195913e-03\n",
      " -4.0936828e-04 -2.0636010e-03 -5.9335830e-04 -5.7858895e-03\n",
      " -8.3862813e-03 -1.5068734e-03 -2.5571836e-03  4.3824338e-03\n",
      " -6.8675173e-03  5.4136957e-03 -6.7450856e-03 -7.8202896e-03\n",
      "  8.4717115e-03  8.9186141e-03 -3.4812402e-03  3.4914147e-03\n",
      " -5.7957349e-03 -8.7500857e-03 -5.5155717e-03  6.7487289e-03\n",
      "  6.4177597e-03  9.4380733e-03  7.0552849e-03  6.7549525e-03]\n",
      "Similar words to 'powerful': [('embeddings', 0.17813792824745178), ('a', 0.1606644093990326), ('word2vec', 0.10561361163854599)]\n"
     ]
    }
   ],
   "source": [
    "# Print results\n",
    "print(\"Vector representation of 'chatgpt':\", word_vector)\n",
    "print(\"Similar words to 'powerful':\", similar_words)"
   ]
  },
  {
   "cell_type": "code",
   "execution_count": 23,
   "id": "cfbe4c4e",
   "metadata": {},
   "outputs": [
    {
     "data": {
      "image/png": "[encoded data removed]",
      "text/plain": [
       "<Figure size 800x400 with 1 Axes>"
      ]
     },
     "metadata": {},
     "output_type": "display_data"
    }
   ],
   "source": [
    "import matplotlib.pyplot as plt\n",
    "\n",
    "# Word vectors (simplified)\n",
    "word_vectors = {\n",
    "    \"cat\": 0.5,\n",
    "    \"dog\": 1.0,\n",
    "    \"fish\": -0.7\n",
    "}\n",
    "\n",
    "# Plotting the word vectors\n",
    "plt.figure(figsize=(8, 4))\n",
    "\n",
    "for word, vector in word_vectors.items():\n",
    "    plt.scatter(vector, 0, marker='o', label=word)\n",
    "    plt.text(vector, 0.03, word, ha='center', fontsize=10)\n",
    "\n",
    "plt.axhline(y=0, color='k', linewidth=0.5)\n",
    "plt.xlabel(\"Word Vector Space (Dimension 1)\")\n",
    "plt.yticks([])\n",
    "plt.title(\"Simplified Word2Vec Word Relationships\")\n",
    "plt.legend()\n",
    "plt.show()\n"
   ]
  },
  {
   "cell_type": "code",
   "execution_count": null,
   "id": "20bbfd68",
   "metadata": {},
   "outputs": [],
   "source": []
  }
 ],
 "metadata": {
  "kernelspec": {
   "display_name": "Python 3 (ipykernel)",
   "language": "python",
   "name": "python3"
  },
  "language_info": {
   "codemirror_mode": {
    "name": "ipython",
    "version": 3
   },
   "file_extension": ".py",
   "mimetype": "text/x-python",
   "name": "python",
   "nbconvert_exporter": "python",
   "pygments_lexer": "ipython3",
   "version": "3.11.3"
  }
 },
 "nbformat": 4,
 "nbformat_minor": 5
}
